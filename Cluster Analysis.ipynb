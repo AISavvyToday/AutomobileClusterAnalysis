{
 "cells": [
  {
   "cell_type": "markdown",
   "id": "b5664092",
   "metadata": {},
   "source": [
    "### Importing necessary libraries"
   ]
  },
  {
   "cell_type": "code",
   "execution_count": 1,
   "id": "adc07aa7",
   "metadata": {},
   "outputs": [],
   "source": [
    "from sklearn.cluster import KMeans\n",
    "from sklearn.preprocessing import StandardScaler\n",
    "import matplotlib.pyplot as plt\n",
    "import numpy as np\n",
    "import pandas as pd\n",
    "import warnings\n",
    "warnings.filterwarnings('ignore')"
   ]
  },
  {
   "cell_type": "code",
   "execution_count": 2,
   "id": "10474067",
   "metadata": {},
   "outputs": [],
   "source": [
    "df = pd.read_csv(\"cleaned_automobile.csv\")"
   ]
  },
  {
   "cell_type": "markdown",
   "id": "fb9db8a7",
   "metadata": {},
   "source": [
    "### Exploring the dataset"
   ]
  },
  {
   "cell_type": "code",
   "execution_count": 3,
   "id": "7d33c1fb",
   "metadata": {},
   "outputs": [
    {
     "data": {
      "text/html": [
       "<div>\n",
       "<style scoped>\n",
       "    .dataframe tbody tr th:only-of-type {\n",
       "        vertical-align: middle;\n",
       "    }\n",
       "\n",
       "    .dataframe tbody tr th {\n",
       "        vertical-align: top;\n",
       "    }\n",
       "\n",
       "    .dataframe thead th {\n",
       "        text-align: right;\n",
       "    }\n",
       "</style>\n",
       "<table border=\"1\" class=\"dataframe\">\n",
       "  <thead>\n",
       "    <tr style=\"text-align: right;\">\n",
       "      <th></th>\n",
       "      <th>Unnamed: 0</th>\n",
       "      <th>symboling</th>\n",
       "      <th>normalized-losses</th>\n",
       "      <th>make</th>\n",
       "      <th>aspiration</th>\n",
       "      <th>num-of-doors</th>\n",
       "      <th>body-style</th>\n",
       "      <th>drive-wheels</th>\n",
       "      <th>engine-location</th>\n",
       "      <th>wheel-base</th>\n",
       "      <th>...</th>\n",
       "      <th>peak-rpm</th>\n",
       "      <th>city-mpg</th>\n",
       "      <th>highway-mpg</th>\n",
       "      <th>price</th>\n",
       "      <th>city-L/100km</th>\n",
       "      <th>highway-L/100km</th>\n",
       "      <th>horsepower-binned</th>\n",
       "      <th>fuel-type-diesel</th>\n",
       "      <th>fuel-type-gas</th>\n",
       "      <th>Car Size</th>\n",
       "    </tr>\n",
       "  </thead>\n",
       "  <tbody>\n",
       "    <tr>\n",
       "      <th>0</th>\n",
       "      <td>0</td>\n",
       "      <td>3</td>\n",
       "      <td>121</td>\n",
       "      <td>alfa-romero</td>\n",
       "      <td>std</td>\n",
       "      <td>two</td>\n",
       "      <td>convertible</td>\n",
       "      <td>rwd</td>\n",
       "      <td>front</td>\n",
       "      <td>88.6</td>\n",
       "      <td>...</td>\n",
       "      <td>5000.0</td>\n",
       "      <td>21.0</td>\n",
       "      <td>27.0</td>\n",
       "      <td>13495.0</td>\n",
       "      <td>11.190476</td>\n",
       "      <td>9.370370</td>\n",
       "      <td>low</td>\n",
       "      <td>0</td>\n",
       "      <td>1</td>\n",
       "      <td>0.589311</td>\n",
       "    </tr>\n",
       "    <tr>\n",
       "      <th>1</th>\n",
       "      <td>1</td>\n",
       "      <td>3</td>\n",
       "      <td>121</td>\n",
       "      <td>alfa-romero</td>\n",
       "      <td>std</td>\n",
       "      <td>two</td>\n",
       "      <td>convertible</td>\n",
       "      <td>rwd</td>\n",
       "      <td>front</td>\n",
       "      <td>88.6</td>\n",
       "      <td>...</td>\n",
       "      <td>5000.0</td>\n",
       "      <td>21.0</td>\n",
       "      <td>27.0</td>\n",
       "      <td>16500.0</td>\n",
       "      <td>11.190476</td>\n",
       "      <td>9.370370</td>\n",
       "      <td>low</td>\n",
       "      <td>0</td>\n",
       "      <td>1</td>\n",
       "      <td>0.589311</td>\n",
       "    </tr>\n",
       "    <tr>\n",
       "      <th>2</th>\n",
       "      <td>2</td>\n",
       "      <td>1</td>\n",
       "      <td>121</td>\n",
       "      <td>alfa-romero</td>\n",
       "      <td>std</td>\n",
       "      <td>two</td>\n",
       "      <td>hatchback</td>\n",
       "      <td>rwd</td>\n",
       "      <td>front</td>\n",
       "      <td>94.5</td>\n",
       "      <td>...</td>\n",
       "      <td>5000.0</td>\n",
       "      <td>19.0</td>\n",
       "      <td>26.0</td>\n",
       "      <td>16500.0</td>\n",
       "      <td>12.368421</td>\n",
       "      <td>9.730769</td>\n",
       "      <td>medium</td>\n",
       "      <td>0</td>\n",
       "      <td>1</td>\n",
       "      <td>0.655799</td>\n",
       "    </tr>\n",
       "    <tr>\n",
       "      <th>3</th>\n",
       "      <td>3</td>\n",
       "      <td>2</td>\n",
       "      <td>164</td>\n",
       "      <td>audi</td>\n",
       "      <td>std</td>\n",
       "      <td>four</td>\n",
       "      <td>sedan</td>\n",
       "      <td>fwd</td>\n",
       "      <td>front</td>\n",
       "      <td>99.8</td>\n",
       "      <td>...</td>\n",
       "      <td>5500.0</td>\n",
       "      <td>24.0</td>\n",
       "      <td>30.0</td>\n",
       "      <td>13950.0</td>\n",
       "      <td>9.791667</td>\n",
       "      <td>8.433333</td>\n",
       "      <td>low</td>\n",
       "      <td>0</td>\n",
       "      <td>1</td>\n",
       "      <td>0.708505</td>\n",
       "    </tr>\n",
       "    <tr>\n",
       "      <th>4</th>\n",
       "      <td>4</td>\n",
       "      <td>2</td>\n",
       "      <td>164</td>\n",
       "      <td>audi</td>\n",
       "      <td>std</td>\n",
       "      <td>four</td>\n",
       "      <td>sedan</td>\n",
       "      <td>4wd</td>\n",
       "      <td>front</td>\n",
       "      <td>99.4</td>\n",
       "      <td>...</td>\n",
       "      <td>5500.0</td>\n",
       "      <td>18.0</td>\n",
       "      <td>22.0</td>\n",
       "      <td>17450.0</td>\n",
       "      <td>13.055556</td>\n",
       "      <td>11.500000</td>\n",
       "      <td>low</td>\n",
       "      <td>0</td>\n",
       "      <td>1</td>\n",
       "      <td>0.710645</td>\n",
       "    </tr>\n",
       "  </tbody>\n",
       "</table>\n",
       "<p>5 rows × 32 columns</p>\n",
       "</div>"
      ],
      "text/plain": [
       "   Unnamed: 0  symboling  normalized-losses         make aspiration  \\\n",
       "0           0          3                121  alfa-romero        std   \n",
       "1           1          3                121  alfa-romero        std   \n",
       "2           2          1                121  alfa-romero        std   \n",
       "3           3          2                164         audi        std   \n",
       "4           4          2                164         audi        std   \n",
       "\n",
       "  num-of-doors   body-style drive-wheels engine-location  wheel-base  ...  \\\n",
       "0          two  convertible          rwd           front        88.6  ...   \n",
       "1          two  convertible          rwd           front        88.6  ...   \n",
       "2          two    hatchback          rwd           front        94.5  ...   \n",
       "3         four        sedan          fwd           front        99.8  ...   \n",
       "4         four        sedan          4wd           front        99.4  ...   \n",
       "\n",
       "   peak-rpm  city-mpg  highway-mpg    price city-L/100km highway-L/100km  \\\n",
       "0    5000.0      21.0         27.0  13495.0    11.190476        9.370370   \n",
       "1    5000.0      21.0         27.0  16500.0    11.190476        9.370370   \n",
       "2    5000.0      19.0         26.0  16500.0    12.368421        9.730769   \n",
       "3    5500.0      24.0         30.0  13950.0     9.791667        8.433333   \n",
       "4    5500.0      18.0         22.0  17450.0    13.055556       11.500000   \n",
       "\n",
       "   horsepower-binned fuel-type-diesel  fuel-type-gas  Car Size  \n",
       "0                low                0              1  0.589311  \n",
       "1                low                0              1  0.589311  \n",
       "2             medium                0              1  0.655799  \n",
       "3                low                0              1  0.708505  \n",
       "4                low                0              1  0.710645  \n",
       "\n",
       "[5 rows x 32 columns]"
      ]
     },
     "execution_count": 3,
     "metadata": {},
     "output_type": "execute_result"
    }
   ],
   "source": [
    "df.head()"
   ]
  },
  {
   "cell_type": "code",
   "execution_count": 4,
   "id": "18664fd9",
   "metadata": {},
   "outputs": [
    {
     "name": "stdout",
     "output_type": "stream",
     "text": [
      "(225, 32)\n"
     ]
    },
    {
     "data": {
      "text/plain": [
       "Unnamed: 0             int64\n",
       "symboling              int64\n",
       "normalized-losses      int64\n",
       "make                  object\n",
       "aspiration            object\n",
       "num-of-doors          object\n",
       "body-style            object\n",
       "drive-wheels          object\n",
       "engine-location       object\n",
       "wheel-base           float64\n",
       "length               float64\n",
       "width                float64\n",
       "height               float64\n",
       "curb-weight          float64\n",
       "engine-type           object\n",
       "num-of-cylinders      object\n",
       "engine-size          float64\n",
       "fuel-system           object\n",
       "bore                 float64\n",
       "stroke               float64\n",
       "compression-ratio    float64\n",
       "horsepower           float64\n",
       "peak-rpm             float64\n",
       "city-mpg             float64\n",
       "highway-mpg          float64\n",
       "price                float64\n",
       "city-L/100km         float64\n",
       "highway-L/100km      float64\n",
       "horsepower-binned     object\n",
       "fuel-type-diesel       int64\n",
       "fuel-type-gas          int64\n",
       "Car Size             float64\n",
       "dtype: object"
      ]
     },
     "execution_count": 4,
     "metadata": {},
     "output_type": "execute_result"
    }
   ],
   "source": [
    "print(df.shape)\n",
    "df.dtypes"
   ]
  },
  {
   "cell_type": "markdown",
   "id": "bd2b44c6",
   "metadata": {},
   "source": [
    "### Feature Selection\n",
    "We have selected 'Cty MPG' and 'Price' as our features for clustering. These features are integral in assessing the efficiency and cost-effectiveness of cars.\n",
    "\n",
    "#### Rationale\n",
    "Cty MPG: Represents the fuel efficiency of the car in city conditions. A higher value is usually preferred.\n",
    "Price: Represents the cost of the car. Consumers usually look for a balance between price and features."
   ]
  },
  {
   "cell_type": "code",
   "execution_count": 5,
   "id": "706e54c9",
   "metadata": {},
   "outputs": [],
   "source": [
    "# Feature Selection\n",
    "features = df[['city-mpg', 'price']]"
   ]
  },
  {
   "cell_type": "markdown",
   "id": "00f74ea5",
   "metadata": {},
   "source": [
    "### Data Preprocessing\n",
    "Before running the k-Means algorithm, it's crucial to scale the features. Different scales of features can bias the clustering algorithm."
   ]
  },
  {
   "cell_type": "code",
   "execution_count": 6,
   "id": "00940854",
   "metadata": {},
   "outputs": [],
   "source": [
    "# Data Preprocessing: Scaling the Features\n",
    "scaler = StandardScaler()\n",
    "scaled_features = scaler.fit_transform(features)"
   ]
  },
  {
   "cell_type": "markdown",
   "id": "111f64ad",
   "metadata": {},
   "source": [
    "### Model Training\n",
    "The k-Means algorithm is run on the scaled features. The optimal number of clusters (k) is determined using the Elbow Method."
   ]
  },
  {
   "cell_type": "code",
   "execution_count": 7,
   "id": "cf58f9aa",
   "metadata": {},
   "outputs": [],
   "source": [
    "# Model Training- Running k-Means Algorithm\n",
    "# Using the Elbow Method to find the optimal number of clusters\n",
    "inertia = []\n",
    "for i in range(1, 11):\n",
    "    kmeans = KMeans(n_clusters=i, random_state=0)\n",
    "    kmeans.fit(scaled_features)\n",
    "    inertia.append(kmeans.inertia_)"
   ]
  },
  {
   "cell_type": "code",
   "execution_count": 8,
   "id": "d4159d28",
   "metadata": {},
   "outputs": [
    {
     "data": {
      "image/png": "[encoded data removed]",
      "text/plain": [
       "<Figure size 640x480 with 1 Axes>"
      ]
     },
     "metadata": {},
     "output_type": "display_data"
    }
   ],
   "source": [
    "# Plotting the Elbow Method graph\n",
    "plt.figure()\n",
    "plt.plot(range(1, 11), inertia, 'bo-')\n",
    "plt.title('Elbow Method')\n",
    "plt.xlabel('Number of Clusters')\n",
    "plt.ylabel('Inertia')\n",
    "plt.show()"
   ]
  },
  {
   "cell_type": "code",
   "execution_count": 9,
   "id": "44b42878",
   "metadata": {},
   "outputs": [],
   "source": [
    "# Optimal number of clusters based on the elbow method\n",
    "optimal_k = 3\n",
    "\n",
    "# Running k-Means with optimal number of clusters\n",
    "kmeans = KMeans(n_clusters=optimal_k, random_state=0)\n",
    "clusters = kmeans.fit_predict(scaled_features)"
   ]
  },
  {
   "cell_type": "markdown",
   "id": "b2e2d56f",
   "metadata": {},
   "source": [
    "### Cluster Labeling\n",
    "After forming clusters, they are labeled based on their characteristics like 'most fuel-efficient' or 'least expensive'."
   ]
  },
  {
   "cell_type": "code",
   "execution_count": 10,
   "id": "47363a0c",
   "metadata": {},
   "outputs": [],
   "source": [
    "# Adding the cluster labels to the original DataFrame\n",
    "df['Cluster_Labels'] = clusters\n",
    "\n",
    "# Cluster Labeling\n",
    "#Cluster 0 is 'Most Fuel Efficient', Cluster 1 is 'Least Expensive', etc.\n",
    "cluster_labels = {0: 'Most Fuel Efficient', 1: 'Least Expensive', 2: 'Balanced'}\n",
    "df['Cluster_Description'] = df['Cluster_Labels'].map(cluster_labels)"
   ]
  },
  {
   "cell_type": "markdown",
   "id": "d630f7b6",
   "metadata": {},
   "source": [
    "### Visualization\n",
    "Clusters are visualized using scatter plots to provide a graphical representation of the clustering."
   ]
  },
  {
   "cell_type": "code",
   "execution_count": 11,
   "id": "5f9bec5d",
   "metadata": {},
   "outputs": [
    {
     "data": {
      "image/png": "[encoded data removed]",
      "text/plain": [
       "<Figure size 640x480 with 2 Axes>"
      ]
     },
     "metadata": {},
     "output_type": "display_data"
    }
   ],
   "source": [
    "# Visualization: Scatter Plot\n",
    "plt.figure()\n",
    "plt.scatter(df['city-mpg'], df['price'], c=df['Cluster_Labels'])\n",
    "plt.title('k-Means Clustering')\n",
    "plt.xlabel('City MPG')\n",
    "plt.ylabel('Price')\n",
    "plt.colorbar().set_label('Cluster Label')\n",
    "plt.show()"
   ]
  },
  {
   "cell_type": "markdown",
   "id": "5e82f492",
   "metadata": {},
   "source": [
    "#### Cluster 0: Most Fuel Efficient - Cars that offer the best fuel efficiency.\n",
    "#### Cluster 1: Least Expensive - Cars that are the most budget-friendly.\n",
    "#### Cluster 2: Balanced - Cars that offer a balanced mix of fuel efficiency and cost.\n"
   ]
  },
  {
   "cell_type": "markdown",
   "id": "3097664e",
   "metadata": {},
   "source": [
    "## Hierarchical Clustering"
   ]
  },
  {
   "cell_type": "markdown",
   "id": "a0fcf3ca",
   "metadata": {},
   "source": [
    "### Feature Selection\n",
    "We will continue using 'Cty MPG' and 'Price' for this part, maintaining uniformity for later comparison."
   ]
  },
  {
   "cell_type": "code",
   "execution_count": 12,
   "id": "18c56fd2",
   "metadata": {},
   "outputs": [],
   "source": [
    "# Importing necessary libraries\n",
    "from scipy.cluster.hierarchy import dendrogram, linkage\n",
    "from sklearn.cluster import AgglomerativeClustering\n",
    "import matplotlib.pyplot as plt"
   ]
  },
  {
   "cell_type": "markdown",
   "id": "d7b9cf9d",
   "metadata": {},
   "source": [
    "\n",
    "\n",
    "### Training"
   ]
  },
  {
   "cell_type": "code",
   "execution_count": 13,
   "id": "6a3cf642",
   "metadata": {},
   "outputs": [],
   "source": [
    "# Model Training: Hierarchical Clustering using Agglomerative Clustering\n",
    "linkage_method = 'ward'"
   ]
  },
  {
   "cell_type": "markdown",
   "id": "d2632033",
   "metadata": {},
   "source": [
    "### Dendrogram\n",
    "for visual inspection to help decide the number of clusters."
   ]
  },
  {
   "cell_type": "code",
   "execution_count": 14,
   "id": "59f67195",
   "metadata": {},
   "outputs": [
    {
     "data": {
      "image/png": "[encoded data removed]",
      "text/plain": [
       "<Figure size 1000x700 with 1 Axes>"
      ]
     },
     "metadata": {},
     "output_type": "display_data"
    }
   ],
   "source": [
    "# Plotting Dendrogram\n",
    "linked = linkage(scaled_features, method=linkage_method)\n",
    "plt.figure(figsize=(10, 7))\n",
    "dendrogram(linked)\n",
    "plt.title('Dendrogram')\n",
    "plt.xlabel('Data Points')\n",
    "plt.ylabel('Euclidean Distance')\n",
    "plt.show()"
   ]
  },
  {
   "cell_type": "code",
   "execution_count": 15,
   "id": "853b5d8e",
   "metadata": {},
   "outputs": [],
   "source": [
    "#decide number of clusters from Dendrogram\n",
    "n_clusters = 3\n",
    "\n",
    "# Running Agglomerative Clustering\n",
    "agg_clustering = AgglomerativeClustering(n_clusters=n_clusters, linkage=linkage_method)\n",
    "df['Hierarchical_Cluster_Labels'] = agg_clustering.fit_predict(scaled_features)"
   ]
  },
  {
   "cell_type": "markdown",
   "id": "72b976ae",
   "metadata": {},
   "source": [
    "### Cluster Labeling\n",
    "Clusters  labeled similar to Part 1 so we get us comparative insights."
   ]
  },
  {
   "cell_type": "code",
   "execution_count": 16,
   "id": "8e1a8be2",
   "metadata": {},
   "outputs": [],
   "source": [
    "# Cluster Labeling\n",
    "cluster_labels = {0: 'Most Fuel Efficient', 1: 'Least Expensive', 2: 'Balanced'}\n",
    "df['Hierarchical_Cluster_Description'] = df['Hierarchical_Cluster_Labels'].map(cluster_labels)"
   ]
  },
  {
   "cell_type": "markdown",
   "id": "0085042e",
   "metadata": {},
   "source": [
    "## Evaluation and Comparison"
   ]
  },
  {
   "cell_type": "code",
   "execution_count": 17,
   "id": "24bd002a",
   "metadata": {},
   "outputs": [],
   "source": [
    "# Importing necessary libraries\n",
    "from sklearn.metrics import silhouette_score\n",
    "from time import time\n",
    "import numpy as np"
   ]
  },
  {
   "cell_type": "markdown",
   "id": "156f7e58",
   "metadata": {},
   "source": [
    "### Internal Metrics\n",
    "We will assess the quality of our clusters using internal metrics: Sum of Squared Errors (SSE) or Silhouette Score."
   ]
  },
  {
   "cell_type": "code",
   "execution_count": 18,
   "id": "fe1c6654",
   "metadata": {},
   "outputs": [],
   "source": [
    "# Internal Metrics\n",
    "\n",
    "## k-Means\n",
    "start_time = time()\n",
    "kmeans_sse = kmeans.inertia_\n",
    "kmeans_silhouette = silhouette_score(scaled_features, df['Cluster_Labels'])\n",
    "kmeans_time = time() - start_time"
   ]
  },
  {
   "cell_type": "code",
   "execution_count": 19,
   "id": "938385c8",
   "metadata": {},
   "outputs": [],
   "source": [
    "## Hierarchical\n",
    "start_time = time()\n",
    "# SSE for Agglomerative is not directly available; alternative methods can be used\n",
    "agg_silhouette = silhouette_score(scaled_features, df['Hierarchical_Cluster_Labels'])\n",
    "agg_time = time() - start_time\n"
   ]
  },
  {
   "cell_type": "markdown",
   "id": "b3cb92ac",
   "metadata": {},
   "source": [
    "#### Qualitative Analysis"
   ]
  },
  {
   "cell_type": "code",
   "execution_count": 20,
   "id": "ddb9cc70",
   "metadata": {},
   "outputs": [
    {
     "data": {
      "text/html": [
       "<div>\n",
       "<style scoped>\n",
       "    .dataframe tbody tr th:only-of-type {\n",
       "        vertical-align: middle;\n",
       "    }\n",
       "\n",
       "    .dataframe tbody tr th {\n",
       "        vertical-align: top;\n",
       "    }\n",
       "\n",
       "    .dataframe thead th {\n",
       "        text-align: right;\n",
       "    }\n",
       "</style>\n",
       "<table border=\"1\" class=\"dataframe\">\n",
       "  <thead>\n",
       "    <tr style=\"text-align: right;\">\n",
       "      <th></th>\n",
       "      <th>Method</th>\n",
       "      <th>SSE</th>\n",
       "      <th>Silhouette Score</th>\n",
       "      <th>Time Complexity (s)</th>\n",
       "      <th>Cluster Stability</th>\n",
       "      <th>Cluster Shape</th>\n",
       "      <th>Practical Implications</th>\n",
       "    </tr>\n",
       "  </thead>\n",
       "  <tbody>\n",
       "    <tr>\n",
       "      <th>0</th>\n",
       "      <td>k-Means</td>\n",
       "      <td>127.030578</td>\n",
       "      <td>0.484706</td>\n",
       "      <td>0.026799</td>\n",
       "      <td>Moderate</td>\n",
       "      <td>Spherical</td>\n",
       "      <td>Suitable for large datasets</td>\n",
       "    </tr>\n",
       "    <tr>\n",
       "      <th>1</th>\n",
       "      <td>Hierarchical</td>\n",
       "      <td>N/A</td>\n",
       "      <td>0.469086</td>\n",
       "      <td>0.010624</td>\n",
       "      <td>High</td>\n",
       "      <td>Various</td>\n",
       "      <td>Better for smaller datasets</td>\n",
       "    </tr>\n",
       "  </tbody>\n",
       "</table>\n",
       "</div>"
      ],
      "text/plain": [
       "         Method         SSE  Silhouette Score  Time Complexity (s)  \\\n",
       "0       k-Means  127.030578          0.484706             0.026799   \n",
       "1  Hierarchical         N/A          0.469086             0.010624   \n",
       "\n",
       "  Cluster Stability Cluster Shape       Practical Implications  \n",
       "0          Moderate     Spherical  Suitable for large datasets  \n",
       "1              High       Various  Better for smaller datasets  "
      ]
     },
     "execution_count": 20,
     "metadata": {},
     "output_type": "execute_result"
    }
   ],
   "source": [
    "# Qualitative Analysis\n",
    "qualitative_analysis = {\n",
    "    'Method': ['k-Means', 'Hierarchical'],\n",
    "    'SSE': [kmeans_sse, 'N/A'],\n",
    "    'Silhouette Score': [kmeans_silhouette, agg_silhouette],\n",
    "    'Time Complexity (s)': [kmeans_time, agg_time],\n",
    "    'Cluster Stability': ['Moderate', 'High'],\n",
    "    'Cluster Shape': ['Spherical', 'Various'],\n",
    "    'Practical Implications': ['Suitable for large datasets', 'Better for smaller datasets']\n",
    "}\n",
    "\n",
    "qualitative_df = pd.DataFrame(qualitative_analysis)\n",
    "qualitative_df.head()"
   ]
  },
  {
   "cell_type": "markdown",
   "id": "35da3e38",
   "metadata": {},
   "source": [
    "## Comparison and Results"
   ]
  },
  {
   "cell_type": "markdown",
   "id": "4eef99a0",
   "metadata": {},
   "source": [
    "#### Cluster Stability\n",
    "For k-Means the cluster stability is 'Moderate'. This means that slight changes in the dataset or initial conditions may lead to different clustering results. However, the algorithm is likely to converge to a local minimum, depending on the initialization.\n",
    "\n",
    "Hierarchical: The cluster stability is  'High'. Hierarchical clustering does not involve randomness in its initial steps, so it offers a more stable clustering output.\n",
    "\n",
    "### Cluster Shape\n",
    "k-Means - The clusters are generally spherical due to the algorithm's distance-based objective function. This might not capture complex cluster shapes effectively. On other hand for hierarchical the cluster shape is noted as 'Various', allowing for more intricate and nested cluster shapes. This can be advantageous when the underlying structure of the data is not spherical.\n",
    "\n",
    "### Time Complexity\n",
    "k-Means is slightly faster. The algorithm is well-suited for large datasets.\n",
    "whereas heierarchical, is slightly more time-consuming than k-Means. The hierarchical method generally has higher computational complexity, especially for larger datasets.\n",
    "\n",
    "### Practical Implications\n",
    "k-Means: Suitable for large datasets due to its lower time complexity and faster computational time.\n",
    "Hierarchical is better suited for smaller datasets where the shape of the cluster could be complex and stability is a significant concern.\n",
    "\n",
    "\n",
    "### Summary\n",
    "The choice between k-Means and Hierarchical clustering depend on the specific requirements of the task. If speed and scalability are paramount, especially for larger datasets, k-Means offers a compelling advantage. However, if  emphasis is on achieving stable and potentially intricate clusters, Hierarchical clustering is the preferable option. The Silhouette Scores are fairly comparable for both methods, indicating that both have done a reasonable job in forming distinct clusters. However, k-Means has a slightly higher score, hinting at better-defined clusters for this particular dataset."
   ]
  },
  {
   "cell_type": "code",
   "execution_count": null,
   "id": "a06520f8",
   "metadata": {},
   "outputs": [],
   "source": []
  }
 ],
 "metadata": {
  "kernelspec": {
   "display_name": "Python 3 (ipykernel)",
   "language": "python",
   "name": "python3"
  },
  "language_info": {
   "codemirror_mode": {
    "name": "ipython",
    "version": 3
   },
   "file_extension": ".py",
   "mimetype": "text/x-python",
   "name": "python",
   "nbconvert_exporter": "python",
   "pygments_lexer": "ipython3",
   "version": "3.9.18"
  }
 },
 "nbformat": 4,
 "nbformat_minor": 5
}
